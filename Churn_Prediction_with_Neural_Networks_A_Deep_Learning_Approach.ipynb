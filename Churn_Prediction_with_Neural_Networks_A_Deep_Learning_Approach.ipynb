{
  "nbformat": 4,
  "nbformat_minor": 0,
  "metadata": {
    "colab": {
      "provenance": [],
      "authorship_tag": "ABX9TyPN3YOwgCy6QndzY34+Op2P",
      "include_colab_link": true
    },
    "kernelspec": {
      "name": "python3",
      "display_name": "Python 3"
    },
    "language_info": {
      "name": "python"
    }
  },
  "cells": [
    {
      "cell_type": "markdown",
      "metadata": {
        "id": "view-in-github",
        "colab_type": "text"
      },
      "source": [
        "<a href=\"https://colab.research.google.com/github/VibhaeoM01/ML-/blob/main/Churn_Prediction_with_Neural_Networks_A_Deep_Learning_Approach.ipynb\" target=\"_parent\"><img src=\"https://colab.research.google.com/assets/colab-badge.svg\" alt=\"Open In Colab\"/></a>"
      ]
    },
    {
      "cell_type": "code",
      "execution_count": 2,
      "metadata": {
        "colab": {
          "base_uri": "https://localhost:8080/"
        },
        "id": "PcsmPeLM7hF3",
        "outputId": "19dc68d1-0348-4e8c-e24c-121fc7554a86"
      },
      "outputs": [
        {
          "output_type": "stream",
          "name": "stdout",
          "text": [
            "Requirement already satisfied: tensorflow in /usr/local/lib/python3.10/dist-packages (2.15.0)\n",
            "Requirement already satisfied: absl-py>=1.0.0 in /usr/local/lib/python3.10/dist-packages (from tensorflow) (1.4.0)\n",
            "Requirement already satisfied: astunparse>=1.6.0 in /usr/local/lib/python3.10/dist-packages (from tensorflow) (1.6.3)\n",
            "Requirement already satisfied: flatbuffers>=23.5.26 in /usr/local/lib/python3.10/dist-packages (from tensorflow) (24.3.25)\n",
            "Requirement already satisfied: gast!=0.5.0,!=0.5.1,!=0.5.2,>=0.2.1 in /usr/local/lib/python3.10/dist-packages (from tensorflow) (0.5.4)\n",
            "Requirement already satisfied: google-pasta>=0.1.1 in /usr/local/lib/python3.10/dist-packages (from tensorflow) (0.2.0)\n",
            "Requirement already satisfied: h5py>=2.9.0 in /usr/local/lib/python3.10/dist-packages (from tensorflow) (3.9.0)\n",
            "Requirement already satisfied: libclang>=13.0.0 in /usr/local/lib/python3.10/dist-packages (from tensorflow) (18.1.1)\n",
            "Requirement already satisfied: ml-dtypes~=0.2.0 in /usr/local/lib/python3.10/dist-packages (from tensorflow) (0.2.0)\n",
            "Requirement already satisfied: numpy<2.0.0,>=1.23.5 in /usr/local/lib/python3.10/dist-packages (from tensorflow) (1.25.2)\n",
            "Requirement already satisfied: opt-einsum>=2.3.2 in /usr/local/lib/python3.10/dist-packages (from tensorflow) (3.3.0)\n",
            "Requirement already satisfied: packaging in /usr/local/lib/python3.10/dist-packages (from tensorflow) (24.0)\n",
            "Requirement already satisfied: protobuf!=4.21.0,!=4.21.1,!=4.21.2,!=4.21.3,!=4.21.4,!=4.21.5,<5.0.0dev,>=3.20.3 in /usr/local/lib/python3.10/dist-packages (from tensorflow) (3.20.3)\n",
            "Requirement already satisfied: setuptools in /usr/local/lib/python3.10/dist-packages (from tensorflow) (70.0.0)\n",
            "Requirement already satisfied: six>=1.12.0 in /usr/local/lib/python3.10/dist-packages (from tensorflow) (1.16.0)\n",
            "Requirement already satisfied: termcolor>=1.1.0 in /usr/local/lib/python3.10/dist-packages (from tensorflow) (2.4.0)\n",
            "Requirement already satisfied: typing-extensions>=3.6.6 in /usr/local/lib/python3.10/dist-packages (from tensorflow) (4.11.0)\n",
            "Requirement already satisfied: wrapt<1.15,>=1.11.0 in /usr/local/lib/python3.10/dist-packages (from tensorflow) (1.14.1)\n",
            "Requirement already satisfied: tensorflow-io-gcs-filesystem>=0.23.1 in /usr/local/lib/python3.10/dist-packages (from tensorflow) (0.37.0)\n",
            "Requirement already satisfied: grpcio<2.0,>=1.24.3 in /usr/local/lib/python3.10/dist-packages (from tensorflow) (1.64.0)\n",
            "Requirement already satisfied: tensorboard<2.16,>=2.15 in /usr/local/lib/python3.10/dist-packages (from tensorflow) (2.15.2)\n",
            "Requirement already satisfied: tensorflow-estimator<2.16,>=2.15.0 in /usr/local/lib/python3.10/dist-packages (from tensorflow) (2.15.0)\n",
            "Requirement already satisfied: keras<2.16,>=2.15.0 in /usr/local/lib/python3.10/dist-packages (from tensorflow) (2.15.0)\n",
            "Requirement already satisfied: wheel<1.0,>=0.23.0 in /usr/local/lib/python3.10/dist-packages (from astunparse>=1.6.0->tensorflow) (0.43.0)\n",
            "Requirement already satisfied: google-auth<3,>=1.6.3 in /usr/local/lib/python3.10/dist-packages (from tensorboard<2.16,>=2.15->tensorflow) (2.27.0)\n",
            "Requirement already satisfied: google-auth-oauthlib<2,>=0.5 in /usr/local/lib/python3.10/dist-packages (from tensorboard<2.16,>=2.15->tensorflow) (1.2.0)\n",
            "Requirement already satisfied: markdown>=2.6.8 in /usr/local/lib/python3.10/dist-packages (from tensorboard<2.16,>=2.15->tensorflow) (3.6)\n",
            "Requirement already satisfied: requests<3,>=2.21.0 in /usr/local/lib/python3.10/dist-packages (from tensorboard<2.16,>=2.15->tensorflow) (2.31.0)\n",
            "Requirement already satisfied: tensorboard-data-server<0.8.0,>=0.7.0 in /usr/local/lib/python3.10/dist-packages (from tensorboard<2.16,>=2.15->tensorflow) (0.7.2)\n",
            "Requirement already satisfied: werkzeug>=1.0.1 in /usr/local/lib/python3.10/dist-packages (from tensorboard<2.16,>=2.15->tensorflow) (3.0.3)\n",
            "Requirement already satisfied: cachetools<6.0,>=2.0.0 in /usr/local/lib/python3.10/dist-packages (from google-auth<3,>=1.6.3->tensorboard<2.16,>=2.15->tensorflow) (5.3.3)\n",
            "Requirement already satisfied: pyasn1-modules>=0.2.1 in /usr/local/lib/python3.10/dist-packages (from google-auth<3,>=1.6.3->tensorboard<2.16,>=2.15->tensorflow) (0.4.0)\n",
            "Requirement already satisfied: rsa<5,>=3.1.4 in /usr/local/lib/python3.10/dist-packages (from google-auth<3,>=1.6.3->tensorboard<2.16,>=2.15->tensorflow) (4.9)\n",
            "Requirement already satisfied: requests-oauthlib>=0.7.0 in /usr/local/lib/python3.10/dist-packages (from google-auth-oauthlib<2,>=0.5->tensorboard<2.16,>=2.15->tensorflow) (1.3.1)\n",
            "Requirement already satisfied: charset-normalizer<4,>=2 in /usr/local/lib/python3.10/dist-packages (from requests<3,>=2.21.0->tensorboard<2.16,>=2.15->tensorflow) (3.3.2)\n",
            "Requirement already satisfied: idna<4,>=2.5 in /usr/local/lib/python3.10/dist-packages (from requests<3,>=2.21.0->tensorboard<2.16,>=2.15->tensorflow) (3.7)\n",
            "Requirement already satisfied: urllib3<3,>=1.21.1 in /usr/local/lib/python3.10/dist-packages (from requests<3,>=2.21.0->tensorboard<2.16,>=2.15->tensorflow) (2.0.7)\n",
            "Requirement already satisfied: certifi>=2017.4.17 in /usr/local/lib/python3.10/dist-packages (from requests<3,>=2.21.0->tensorboard<2.16,>=2.15->tensorflow) (2024.2.2)\n",
            "Requirement already satisfied: MarkupSafe>=2.1.1 in /usr/local/lib/python3.10/dist-packages (from werkzeug>=1.0.1->tensorboard<2.16,>=2.15->tensorflow) (2.1.5)\n",
            "Requirement already satisfied: pyasn1<0.7.0,>=0.4.6 in /usr/local/lib/python3.10/dist-packages (from pyasn1-modules>=0.2.1->google-auth<3,>=1.6.3->tensorboard<2.16,>=2.15->tensorflow) (0.6.0)\n",
            "Requirement already satisfied: oauthlib>=3.0.0 in /usr/local/lib/python3.10/dist-packages (from requests-oauthlib>=0.7.0->google-auth-oauthlib<2,>=0.5->tensorboard<2.16,>=2.15->tensorflow) (3.2.2)\n",
            "\u001b[33mWARNING: Running pip as the 'root' user can result in broken permissions and conflicting behaviour with the system package manager. It is recommended to use a virtual environment instead: https://pip.pypa.io/warnings/venv\u001b[0m\u001b[33m\n",
            "\u001b[0m"
          ]
        }
      ],
      "source": [
        "!pip install tensorflow"
      ]
    },
    {
      "cell_type": "code",
      "source": [
        "!pip install --upgrade pip setuptools\n"
      ],
      "metadata": {
        "colab": {
          "base_uri": "https://localhost:8080/",
          "height": 443
        },
        "id": "c_-Uw4wV7iHF",
        "outputId": "ce1a6dfc-3751-462a-fdf1-0d88daa10afe"
      },
      "execution_count": 3,
      "outputs": [
        {
          "output_type": "stream",
          "name": "stdout",
          "text": [
            "Requirement already satisfied: pip in /usr/local/lib/python3.10/dist-packages (23.1.2)\n",
            "Collecting pip\n",
            "  Downloading pip-24.0-py3-none-any.whl (2.1 MB)\n",
            "\u001b[2K     \u001b[90m━━━━━━━━━━━━━━━━━━━━━━━━━━━━━━━━━━━━━━━━\u001b[0m \u001b[32m2.1/2.1 MB\u001b[0m \u001b[31m8.3 MB/s\u001b[0m eta \u001b[36m0:00:00\u001b[0m\n",
            "\u001b[?25hRequirement already satisfied: setuptools in /usr/local/lib/python3.10/dist-packages (67.7.2)\n",
            "Collecting setuptools\n",
            "  Using cached setuptools-70.0.0-py3-none-any.whl (863 kB)\n",
            "Installing collected packages: setuptools, pip\n",
            "  Attempting uninstall: setuptools\n",
            "    Found existing installation: setuptools 67.7.2\n",
            "    Uninstalling setuptools-67.7.2:\n",
            "      Successfully uninstalled setuptools-67.7.2\n",
            "  Attempting uninstall: pip\n",
            "    Found existing installation: pip 23.1.2\n",
            "    Uninstalling pip-23.1.2:\n",
            "      Successfully uninstalled pip-23.1.2\n",
            "\u001b[31mERROR: pip's dependency resolver does not currently take into account all the packages that are installed. This behaviour is the source of the following dependency conflicts.\n",
            "ipython 7.34.0 requires jedi>=0.16, which is not installed.\u001b[0m\u001b[31m\n",
            "\u001b[0mSuccessfully installed pip-24.0 setuptools-70.0.0\n"
          ]
        },
        {
          "output_type": "display_data",
          "data": {
            "application/vnd.colab-display-data+json": {
              "pip_warning": {
                "packages": [
                  "_distutils_hack",
                  "pkg_resources",
                  "setuptools"
                ]
              },
              "id": "32f60282db5b4d2dbb03d0b3eba16e1a"
            }
          },
          "metadata": {}
        }
      ]
    },
    {
      "cell_type": "code",
      "source": [
        "import tensorflow as tf"
      ],
      "metadata": {
        "id": "JHPLjOcK719G"
      },
      "execution_count": 17,
      "outputs": []
    },
    {
      "cell_type": "code",
      "source": [
        "print(tf.__version__)"
      ],
      "metadata": {
        "colab": {
          "base_uri": "https://localhost:8080/"
        },
        "id": "NfieiaLp8GPR",
        "outputId": "15d27898-3dd9-4374-ea25-6ab63f876388"
      },
      "execution_count": 18,
      "outputs": [
        {
          "output_type": "stream",
          "name": "stdout",
          "text": [
            "2.15.0\n"
          ]
        }
      ]
    },
    {
      "cell_type": "code",
      "source": [
        "import numpy as np\n",
        "import matplotlib.pyplot as plt\n",
        "import pandas as pd"
      ],
      "metadata": {
        "id": "QQO6tHZ28I6v"
      },
      "execution_count": 19,
      "outputs": []
    },
    {
      "cell_type": "code",
      "source": [
        "dataset=pd.read_csv(\"/content/Churn_Modelling.csv\")\n",
        "print(dataset)\n",
        "X=dataset.iloc[:,3:13]\n",
        "Y=dataset.iloc[:,13]"
      ],
      "metadata": {
        "colab": {
          "base_uri": "https://localhost:8080/"
        },
        "id": "GU-oG4lg8UAO",
        "outputId": "fc8ec423-b8a2-458c-fcdd-86bf500a0aa8"
      },
      "execution_count": 20,
      "outputs": [
        {
          "output_type": "stream",
          "name": "stdout",
          "text": [
            "      RowNumber  CustomerId    Surname  CreditScore Geography  Gender  Age  \\\n",
            "0             1    15634602   Hargrave          619    France  Female   42   \n",
            "1             2    15647311       Hill          608     Spain  Female   41   \n",
            "2             3    15619304       Onio          502    France  Female   42   \n",
            "3             4    15701354       Boni          699    France  Female   39   \n",
            "4             5    15737888   Mitchell          850     Spain  Female   43   \n",
            "...         ...         ...        ...          ...       ...     ...  ...   \n",
            "9995       9996    15606229   Obijiaku          771    France    Male   39   \n",
            "9996       9997    15569892  Johnstone          516    France    Male   35   \n",
            "9997       9998    15584532        Liu          709    France  Female   36   \n",
            "9998       9999    15682355  Sabbatini          772   Germany    Male   42   \n",
            "9999      10000    15628319     Walker          792    France  Female   28   \n",
            "\n",
            "      Tenure    Balance  NumOfProducts  HasCrCard  IsActiveMember  \\\n",
            "0          2       0.00              1          1               1   \n",
            "1          1   83807.86              1          0               1   \n",
            "2          8  159660.80              3          1               0   \n",
            "3          1       0.00              2          0               0   \n",
            "4          2  125510.82              1          1               1   \n",
            "...      ...        ...            ...        ...             ...   \n",
            "9995       5       0.00              2          1               0   \n",
            "9996      10   57369.61              1          1               1   \n",
            "9997       7       0.00              1          0               1   \n",
            "9998       3   75075.31              2          1               0   \n",
            "9999       4  130142.79              1          1               0   \n",
            "\n",
            "      EstimatedSalary  Exited  \n",
            "0           101348.88       1  \n",
            "1           112542.58       0  \n",
            "2           113931.57       1  \n",
            "3            93826.63       0  \n",
            "4            79084.10       0  \n",
            "...               ...     ...  \n",
            "9995         96270.64       0  \n",
            "9996        101699.77       0  \n",
            "9997         42085.58       1  \n",
            "9998         92888.52       1  \n",
            "9999         38190.78       0  \n",
            "\n",
            "[10000 rows x 14 columns]\n"
          ]
        }
      ]
    },
    {
      "cell_type": "code",
      "source": [
        "#creating dummy variables\n",
        "geography=pd.get_dummies(X[\"Geography\"],drop_first=True)\n",
        "gender=pd.get_dummies(X[\"Gender\"],drop_first=True)"
      ],
      "metadata": {
        "id": "GKSeGT_w8uLy"
      },
      "execution_count": 21,
      "outputs": []
    },
    {
      "cell_type": "code",
      "source": [
        "#concatenate the DFs\n",
        "\n",
        "X=pd.concat([X,geography,gender],axis=1)\n",
        "\n",
        "#Drop Unnecessary columns\n",
        "\n",
        "X=X.drop([\"Geography\",\"Gender\"],axis=1)\n",
        "\n",
        "#Spliiting the dataset into train and test\n",
        "\n",
        "from sklearn.model_selection import train_test_split\n",
        "X_train,X_test,Y_train,Y_test=train_test_split(X,Y,test_size=0.2,random_state=0)"
      ],
      "metadata": {
        "id": "JGAHItJRR_2F"
      },
      "execution_count": 22,
      "outputs": []
    },
    {
      "cell_type": "code",
      "source": [
        "#feature scaling\n",
        "from sklearn.preprocessing import StandardScaler\n",
        "sc=StandardScaler()\n",
        "X_train=sc.fit_transform(X_train)\n",
        "X_test=sc.transform(X_test)"
      ],
      "metadata": {
        "id": "iLGNbyDhUrGi"
      },
      "execution_count": 25,
      "outputs": []
    },
    {
      "cell_type": "markdown",
      "source": [
        "LETS MAKE ANN"
      ],
      "metadata": {
        "id": "xRQQM6ZNVL-O"
      }
    },
    {
      "cell_type": "code",
      "source": [
        "from tensorflow.keras.models import Sequential\n",
        "from tensorflow.keras.layers import Dense\n",
        "from tensorflow.keras.layers import LeakyReLU,PReLU,ELU\n",
        "from tensorflow.keras.layers import Dropout"
      ],
      "metadata": {
        "id": "btji1r3aTH6J"
      },
      "execution_count": 26,
      "outputs": []
    },
    {
      "cell_type": "code",
      "source": [
        "#Initializing the ANN\n",
        "classifier=Sequential()"
      ],
      "metadata": {
        "id": "W3WQoAVSVO7v"
      },
      "execution_count": 27,
      "outputs": []
    },
    {
      "cell_type": "code",
      "source": [
        "#adding ip layer\n",
        "classifier.add(Dense(units=11,activation='relu'))"
      ],
      "metadata": {
        "id": "K4BLuRIXVlFV"
      },
      "execution_count": 28,
      "outputs": []
    },
    {
      "cell_type": "code",
      "source": [
        "#adding Hidden layer\n",
        "classifier.add(Dense(units=6,activation='relu'))"
      ],
      "metadata": {
        "id": "uKGZw3MWV0Zr"
      },
      "execution_count": 29,
      "outputs": []
    },
    {
      "cell_type": "code",
      "source": [
        "#adding op layer\n",
        "classifier.add(Dense(units=1,activation=\"relu\"))"
      ],
      "metadata": {
        "id": "hny-Ah6NV6lf"
      },
      "execution_count": 30,
      "outputs": []
    },
    {
      "cell_type": "code",
      "source": [
        "classifier.compile(optimizer='adam',loss='binary_crossentropy',metrics=['accuracy'])"
      ],
      "metadata": {
        "id": "JNFoa74ZWBO8"
      },
      "execution_count": 31,
      "outputs": []
    },
    {
      "cell_type": "code",
      "source": [
        "model_history=classifier.fit(X_train,Y_train,validation_split=0.33,batch_size=10,epochs=50)"
      ],
      "metadata": {
        "colab": {
          "base_uri": "https://localhost:8080/"
        },
        "id": "nfjIdZhsWRJU",
        "outputId": "84f831f0-abc4-4633-8a6d-3c698a186d5c"
      },
      "execution_count": 33,
      "outputs": [
        {
          "output_type": "stream",
          "name": "stdout",
          "text": [
            "Epoch 1/50\n",
            "536/536 [==============================] - 5s 5ms/step - loss: 1.8535 - accuracy: 0.7664 - val_loss: 1.2681 - val_accuracy: 0.7906\n",
            "Epoch 2/50\n",
            "536/536 [==============================] - 2s 3ms/step - loss: 1.0804 - accuracy: 0.7848 - val_loss: 1.0719 - val_accuracy: 0.8027\n",
            "Epoch 3/50\n",
            "536/536 [==============================] - 2s 4ms/step - loss: 0.7809 - accuracy: 0.8026 - val_loss: 0.7291 - val_accuracy: 0.8054\n",
            "Epoch 4/50\n",
            "536/536 [==============================] - 2s 4ms/step - loss: 0.5967 - accuracy: 0.8020 - val_loss: 0.6126 - val_accuracy: 0.8054\n",
            "Epoch 5/50\n",
            "536/536 [==============================] - 3s 5ms/step - loss: 0.5463 - accuracy: 0.8078 - val_loss: 0.5888 - val_accuracy: 0.8122\n",
            "Epoch 6/50\n",
            "536/536 [==============================] - 2s 3ms/step - loss: 0.5225 - accuracy: 0.8119 - val_loss: 0.5991 - val_accuracy: 0.8046\n",
            "Epoch 7/50\n",
            "536/536 [==============================] - 2s 3ms/step - loss: 0.4968 - accuracy: 0.8143 - val_loss: 0.4867 - val_accuracy: 0.8092\n",
            "Epoch 8/50\n",
            "536/536 [==============================] - 2s 3ms/step - loss: 0.4768 - accuracy: 0.8186 - val_loss: 0.4756 - val_accuracy: 0.8171\n",
            "Epoch 9/50\n",
            "536/536 [==============================] - 2s 3ms/step - loss: 0.4661 - accuracy: 0.8229 - val_loss: 0.4638 - val_accuracy: 0.8160\n",
            "Epoch 10/50\n",
            "536/536 [==============================] - 2s 5ms/step - loss: 0.4519 - accuracy: 0.8237 - val_loss: 0.4625 - val_accuracy: 0.8198\n",
            "Epoch 11/50\n",
            "536/536 [==============================] - 3s 5ms/step - loss: 0.4303 - accuracy: 0.8237 - val_loss: 0.4408 - val_accuracy: 0.8156\n",
            "Epoch 12/50\n",
            "536/536 [==============================] - 4s 7ms/step - loss: 0.4137 - accuracy: 0.8285 - val_loss: 0.4343 - val_accuracy: 0.8205\n",
            "Epoch 13/50\n",
            "536/536 [==============================] - 3s 5ms/step - loss: 0.4189 - accuracy: 0.8276 - val_loss: 0.4471 - val_accuracy: 0.8145\n",
            "Epoch 14/50\n",
            "536/536 [==============================] - 2s 3ms/step - loss: 0.3971 - accuracy: 0.8298 - val_loss: 0.4289 - val_accuracy: 0.8190\n",
            "Epoch 15/50\n",
            "536/536 [==============================] - 2s 3ms/step - loss: 0.3869 - accuracy: 0.8326 - val_loss: 0.4359 - val_accuracy: 0.8236\n",
            "Epoch 16/50\n",
            "536/536 [==============================] - 1s 3ms/step - loss: 0.3817 - accuracy: 0.8356 - val_loss: 0.4274 - val_accuracy: 0.8251\n",
            "Epoch 17/50\n",
            "536/536 [==============================] - 2s 3ms/step - loss: 0.3856 - accuracy: 0.8380 - val_loss: 0.4356 - val_accuracy: 0.8292\n",
            "Epoch 18/50\n",
            "536/536 [==============================] - 3s 5ms/step - loss: 0.3746 - accuracy: 0.8406 - val_loss: 0.4251 - val_accuracy: 0.8311\n",
            "Epoch 19/50\n",
            "536/536 [==============================] - 3s 5ms/step - loss: 0.3747 - accuracy: 0.8434 - val_loss: 0.4379 - val_accuracy: 0.8292\n",
            "Epoch 20/50\n",
            "536/536 [==============================] - 2s 4ms/step - loss: 0.3706 - accuracy: 0.8455 - val_loss: 0.4248 - val_accuracy: 0.8315\n",
            "Epoch 21/50\n",
            "536/536 [==============================] - 2s 4ms/step - loss: 0.3678 - accuracy: 0.8438 - val_loss: 0.4416 - val_accuracy: 0.8315\n",
            "Epoch 22/50\n",
            "536/536 [==============================] - 2s 3ms/step - loss: 0.3713 - accuracy: 0.8462 - val_loss: 0.4497 - val_accuracy: 0.8281\n",
            "Epoch 23/50\n",
            "536/536 [==============================] - 2s 3ms/step - loss: 0.3749 - accuracy: 0.8466 - val_loss: 0.4650 - val_accuracy: 0.8307\n",
            "Epoch 24/50\n",
            "536/536 [==============================] - 2s 4ms/step - loss: 0.3803 - accuracy: 0.8498 - val_loss: 0.4535 - val_accuracy: 0.8357\n",
            "Epoch 25/50\n",
            "536/536 [==============================] - 3s 5ms/step - loss: 0.3762 - accuracy: 0.8462 - val_loss: 0.4377 - val_accuracy: 0.8330\n",
            "Epoch 26/50\n",
            "536/536 [==============================] - 2s 4ms/step - loss: 0.3735 - accuracy: 0.8492 - val_loss: 0.4430 - val_accuracy: 0.8296\n",
            "Epoch 27/50\n",
            "536/536 [==============================] - 2s 3ms/step - loss: 0.3682 - accuracy: 0.8505 - val_loss: 0.4367 - val_accuracy: 0.8311\n",
            "Epoch 28/50\n",
            "536/536 [==============================] - 1s 3ms/step - loss: 0.3654 - accuracy: 0.8496 - val_loss: 0.4556 - val_accuracy: 0.8334\n",
            "Epoch 29/50\n",
            "536/536 [==============================] - 2s 3ms/step - loss: 0.3644 - accuracy: 0.8505 - val_loss: 0.4682 - val_accuracy: 0.8345\n",
            "Epoch 30/50\n",
            "536/536 [==============================] - 1s 3ms/step - loss: 0.3698 - accuracy: 0.8455 - val_loss: 0.4536 - val_accuracy: 0.8304\n",
            "Epoch 31/50\n",
            "536/536 [==============================] - 2s 3ms/step - loss: 0.3672 - accuracy: 0.8494 - val_loss: 0.4623 - val_accuracy: 0.8360\n",
            "Epoch 32/50\n",
            "536/536 [==============================] - 2s 4ms/step - loss: 0.3608 - accuracy: 0.8511 - val_loss: 0.4731 - val_accuracy: 0.8360\n",
            "Epoch 33/50\n",
            "536/536 [==============================] - 2s 4ms/step - loss: 0.3629 - accuracy: 0.8533 - val_loss: 0.4509 - val_accuracy: 0.8296\n",
            "Epoch 34/50\n",
            "536/536 [==============================] - 2s 3ms/step - loss: 0.3632 - accuracy: 0.8505 - val_loss: 0.4513 - val_accuracy: 0.8342\n",
            "Epoch 35/50\n",
            "536/536 [==============================] - 2s 3ms/step - loss: 0.3585 - accuracy: 0.8520 - val_loss: 0.4791 - val_accuracy: 0.8323\n",
            "Epoch 36/50\n",
            "536/536 [==============================] - 2s 4ms/step - loss: 0.3618 - accuracy: 0.8528 - val_loss: 0.4676 - val_accuracy: 0.8364\n",
            "Epoch 37/50\n",
            "536/536 [==============================] - 1s 3ms/step - loss: 0.3634 - accuracy: 0.8528 - val_loss: 0.4777 - val_accuracy: 0.8368\n",
            "Epoch 38/50\n",
            "536/536 [==============================] - 2s 3ms/step - loss: 0.3656 - accuracy: 0.8546 - val_loss: 0.4661 - val_accuracy: 0.8387\n",
            "Epoch 39/50\n",
            "536/536 [==============================] - 2s 3ms/step - loss: 0.3586 - accuracy: 0.8522 - val_loss: 0.4630 - val_accuracy: 0.8391\n",
            "Epoch 40/50\n",
            "536/536 [==============================] - 3s 6ms/step - loss: 0.3562 - accuracy: 0.8545 - val_loss: 0.4725 - val_accuracy: 0.8342\n",
            "Epoch 41/50\n",
            "536/536 [==============================] - 2s 3ms/step - loss: 0.3612 - accuracy: 0.8569 - val_loss: 0.4906 - val_accuracy: 0.8379\n",
            "Epoch 42/50\n",
            "536/536 [==============================] - 2s 3ms/step - loss: 0.3652 - accuracy: 0.8533 - val_loss: 0.4789 - val_accuracy: 0.8360\n",
            "Epoch 43/50\n",
            "536/536 [==============================] - 2s 3ms/step - loss: 0.3602 - accuracy: 0.8554 - val_loss: 0.4801 - val_accuracy: 0.8406\n",
            "Epoch 44/50\n",
            "536/536 [==============================] - 1s 3ms/step - loss: 0.3558 - accuracy: 0.8561 - val_loss: 0.4719 - val_accuracy: 0.8379\n",
            "Epoch 45/50\n",
            "536/536 [==============================] - 2s 3ms/step - loss: 0.3528 - accuracy: 0.8558 - val_loss: 0.4849 - val_accuracy: 0.8368\n",
            "Epoch 46/50\n",
            "536/536 [==============================] - 2s 3ms/step - loss: 0.3659 - accuracy: 0.8487 - val_loss: 0.4776 - val_accuracy: 0.8353\n",
            "Epoch 47/50\n",
            "536/536 [==============================] - 3s 5ms/step - loss: 0.3599 - accuracy: 0.8552 - val_loss: 0.4779 - val_accuracy: 0.8406\n",
            "Epoch 48/50\n",
            "536/536 [==============================] - 2s 4ms/step - loss: 0.3591 - accuracy: 0.8587 - val_loss: 0.4973 - val_accuracy: 0.8387\n",
            "Epoch 49/50\n",
            "536/536 [==============================] - 2s 3ms/step - loss: 0.3597 - accuracy: 0.8591 - val_loss: 0.5002 - val_accuracy: 0.8379\n",
            "Epoch 50/50\n",
            "536/536 [==============================] - 2s 3ms/step - loss: 0.3578 - accuracy: 0.8572 - val_loss: 0.4719 - val_accuracy: 0.8406\n"
          ]
        }
      ]
    },
    {
      "cell_type": "code",
      "source": [
        "print(model_history.history.keys())"
      ],
      "metadata": {
        "colab": {
          "base_uri": "https://localhost:8080/"
        },
        "id": "luYmsePkXqsU",
        "outputId": "7ba41824-6b20-4729-f607-3092dfcbb9c1"
      },
      "execution_count": 34,
      "outputs": [
        {
          "output_type": "stream",
          "name": "stdout",
          "text": [
            "dict_keys(['loss', 'accuracy', 'val_loss', 'val_accuracy'])\n"
          ]
        }
      ]
    },
    {
      "cell_type": "code",
      "source": [
        "#summarize history for accuracy\n",
        "plt.plot(model_history.history['accuracy'])\n",
        "plt.plot(model_history.history['val_accuracy'])\n",
        "plt.title('model accuracy')\n",
        "plt.ylabel('accuracy')\n",
        "plt.xlabel('epoch')\n",
        "plt.legend(['train','test'],loc='upper left')\n",
        "plt.show()"
      ],
      "metadata": {
        "colab": {
          "base_uri": "https://localhost:8080/",
          "height": 472
        },
        "id": "25CbR8waYjj7",
        "outputId": "9da51f73-dfff-48be-9c2a-6990c36ecfc7"
      },
      "execution_count": 35,
      "outputs": [
        {
          "output_type": "display_data",
          "data": {
            "text/plain": [
              "<Figure size 640x480 with 1 Axes>"
            ],
            "image/png": "[encoded data removed]"
          },
          "metadata": {}
        }
      ]
    },
    {
      "cell_type": "code",
      "source": [
        "#summarize history for loss\n",
        "plt.plot(model_history.history['loss'])\n",
        "plt.plot(model_history.history['val_loss'])\n",
        "plt.title('model loss')\n",
        "plt.ylabel('loss')\n",
        "plt.xlabel('epoch')\n",
        "plt.legend(['train','test'],loc='upper left')\n",
        "plt.show()"
      ],
      "metadata": {
        "colab": {
          "base_uri": "https://localhost:8080/",
          "height": 472
        },
        "id": "Goi2dS8EZsq_",
        "outputId": "d1e1a8db-2270-4b50-ee22-e0719d14462a"
      },
      "execution_count": 37,
      "outputs": [
        {
          "output_type": "display_data",
          "data": {
            "text/plain": [
              "<Figure size 640x480 with 1 Axes>"
            ],
            "image/png": "[encoded data removed]"
          },
          "metadata": {}
        }
      ]
    },
    {
      "cell_type": "code",
      "source": [
        "#Make predictions and evaluating the model\n",
        "\n",
        "#Predicting the test set results\n",
        "\n",
        "y_pred=classifier.predict(X_test)\n",
        "y_pred=(y_pred>0.5)"
      ],
      "metadata": {
        "colab": {
          "base_uri": "https://localhost:8080/"
        },
        "id": "muBolDH-aGAf",
        "outputId": "1977c7b6-0238-4b94-e04e-17b3cf69c0a5"
      },
      "execution_count": 38,
      "outputs": [
        {
          "output_type": "stream",
          "name": "stdout",
          "text": [
            "63/63 [==============================] - 0s 2ms/step\n"
          ]
        }
      ]
    },
    {
      "cell_type": "code",
      "source": [
        "#Confusion Matrix\n",
        "from sklearn.metrics import confusion_matrix\n",
        "cm=confusion_matrix(Y_test,y_pred)\n",
        "cm"
      ],
      "metadata": {
        "colab": {
          "base_uri": "https://localhost:8080/"
        },
        "id": "rCm2jOr1a2N6",
        "outputId": "90cfc0e3-c002-4212-c2ab-fb4e605bb2e5"
      },
      "execution_count": 42,
      "outputs": [
        {
          "output_type": "execute_result",
          "data": {
            "text/plain": [
              "array([[1522,   73],\n",
              "       [ 221,  184]])"
            ]
          },
          "metadata": {},
          "execution_count": 42
        }
      ]
    },
    {
      "cell_type": "code",
      "source": [
        "from sklearn.metrics import accuracy_score\n",
        "score=accuracy_score(y_pred,Y_test)\n",
        "score"
      ],
      "metadata": {
        "colab": {
          "base_uri": "https://localhost:8080/"
        },
        "id": "yZxwnMZjbFsn",
        "outputId": "157b9c05-1149-4581-e7b2-88a46a7fa5c5"
      },
      "execution_count": 44,
      "outputs": [
        {
          "output_type": "execute_result",
          "data": {
            "text/plain": [
              "0.853"
            ]
          },
          "metadata": {},
          "execution_count": 44
        }
      ]
    },
    {
      "cell_type": "code",
      "source": [],
      "metadata": {
        "id": "t8BOLTBpbVPc"
      },
      "execution_count": null,
      "outputs": []
    }
  ]
}